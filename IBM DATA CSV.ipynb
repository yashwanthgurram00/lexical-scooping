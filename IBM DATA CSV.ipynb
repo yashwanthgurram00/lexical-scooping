{
    "cells": [
        {
            "metadata": {},
            "cell_type": "code",
            "source": "\nimport types\nimport pandas as pd\nfrom botocore.client import Config\nimport ibm_boto3\n\ndef __iter__(self): return 0\n\n# @hidden_cell\n# The following code accesses a file in your IBM Cloud Object Storage. It includes your credentials.\n# You might want to remove those credentials before you share the notebook.\nclient_038d72830a6f42039c19a24a4e4ec827 = ibm_boto3.client(service_name='s3',\n    ibm_api_key_id='R8Ye09UcM_jSWqzWYCP-PrbFKPm98Zzq0V7RS9y5hqdk',\n    ibm_auth_endpoint=\"https://iam.cloud.ibm.com/oidc/token\",\n    config=Config(signature_version='oauth'),\n    endpoint_url='https://s3-api.us-geo.objectstorage.service.networklayer.com')\n\nbody = client_038d72830a6f42039c19a24a4e4ec827.get_object(Bucket='demoprojects-donotdelete-pr-zvbwrbcooxg4zk',Key='annual-balance-sheets-and-accumulation-accounts-200817-provisional-csv.csv')['Body']\n# add missing __iter__ method, so pandas accepts body as file-like object\nif not hasattr(body, \"__iter__\"): body.__iter__ = types.MethodType( __iter__, body )\n\ndf_data_1 = pd.read_csv(body)\ndf_data_1.head()\n",
            "execution_count": 1,
            "outputs": [
                {
                    "output_type": "execute_result",
                    "execution_count": 1,
                    "data": {
                        "text/plain": "      Year       Institutional_sector_name  Institutional_sector_code  \\\n0  2008.03  Corporate business enterprises                        141   \n1  2009.03  Corporate business enterprises                        141   \n2  2010.03  Corporate business enterprises                        141   \n3  2011.03  Corporate business enterprises                        141   \n4  2012.03  Corporate business enterprises                        141   \n\n                                          Descriptor SNA08TRANS  \\\n0  Capital Account Opening balances Produced non-...    LS00000   \n1  Capital Account Opening balances Produced non-...    LS00000   \n2  Capital Account Opening balances Produced non-...    LS00000   \n3  Capital Account Opening balances Produced non-...    LS00000   \n4  Capital Account Opening balances Produced non-...    LS00000   \n\n  Asset_liability_code   Status  Values  \n0              AN10000  REVISED  225544  \n1              AN10000  REVISED  243315  \n2              AN10000  REVISED  259381  \n3              AN10000  REVISED  262596  \n4              AN10000  REVISED  267100  ",
                        "text/html": "<div>\n<style scoped>\n    .dataframe tbody tr th:only-of-type {\n        vertical-align: middle;\n    }\n\n    .dataframe tbody tr th {\n        vertical-align: top;\n    }\n\n    .dataframe thead th {\n        text-align: right;\n    }\n</style>\n<table border=\"1\" class=\"dataframe\">\n  <thead>\n    <tr style=\"text-align: right;\">\n      <th></th>\n      <th>Year</th>\n      <th>Institutional_sector_name</th>\n      <th>Institutional_sector_code</th>\n      <th>Descriptor</th>\n      <th>SNA08TRANS</th>\n      <th>Asset_liability_code</th>\n      <th>Status</th>\n      <th>Values</th>\n    </tr>\n  </thead>\n  <tbody>\n    <tr>\n      <th>0</th>\n      <td>2008.03</td>\n      <td>Corporate business enterprises</td>\n      <td>141</td>\n      <td>Capital Account Opening balances Produced non-...</td>\n      <td>LS00000</td>\n      <td>AN10000</td>\n      <td>REVISED</td>\n      <td>225544</td>\n    </tr>\n    <tr>\n      <th>1</th>\n      <td>2009.03</td>\n      <td>Corporate business enterprises</td>\n      <td>141</td>\n      <td>Capital Account Opening balances Produced non-...</td>\n      <td>LS00000</td>\n      <td>AN10000</td>\n      <td>REVISED</td>\n      <td>243315</td>\n    </tr>\n    <tr>\n      <th>2</th>\n      <td>2010.03</td>\n      <td>Corporate business enterprises</td>\n      <td>141</td>\n      <td>Capital Account Opening balances Produced non-...</td>\n      <td>LS00000</td>\n      <td>AN10000</td>\n      <td>REVISED</td>\n      <td>259381</td>\n    </tr>\n    <tr>\n      <th>3</th>\n      <td>2011.03</td>\n      <td>Corporate business enterprises</td>\n      <td>141</td>\n      <td>Capital Account Opening balances Produced non-...</td>\n      <td>LS00000</td>\n      <td>AN10000</td>\n      <td>REVISED</td>\n      <td>262596</td>\n    </tr>\n    <tr>\n      <th>4</th>\n      <td>2012.03</td>\n      <td>Corporate business enterprises</td>\n      <td>141</td>\n      <td>Capital Account Opening balances Produced non-...</td>\n      <td>LS00000</td>\n      <td>AN10000</td>\n      <td>REVISED</td>\n      <td>267100</td>\n    </tr>\n  </tbody>\n</table>\n</div>"
                    },
                    "metadata": {}
                }
            ]
        },
        {
            "metadata": {},
            "cell_type": "code",
            "source": "",
            "execution_count": null,
            "outputs": []
        }
    ],
    "metadata": {
        "kernelspec": {
            "name": "python3",
            "display_name": "Python 3.6",
            "language": "python"
        },
        "language_info": {
            "name": "python",
            "version": "3.6.9",
            "mimetype": "text/x-python",
            "codemirror_mode": {
                "name": "ipython",
                "version": 3
            },
            "pygments_lexer": "ipython3",
            "nbconvert_exporter": "python",
            "file_extension": ".py"
        }
    },
    "nbformat": 4,
    "nbformat_minor": 1
}